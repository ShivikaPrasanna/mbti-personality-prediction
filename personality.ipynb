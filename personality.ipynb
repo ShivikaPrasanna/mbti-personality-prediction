{
  "nbformat": 4,
  "nbformat_minor": 0,
  "metadata": {
    "colab": {
      "name": "SL.ipynb",
      "provenance": [],
      "collapsed_sections": [],
      "authorship_tag": "ABX9TyN3wyycIZpQO2syfnj9VDvN",
      "include_colab_link": true
    },
    "kernelspec": {
      "name": "python3",
      "display_name": "Python 3"
    },
    "language_info": {
      "name": "python"
    }
  },
  "cells": [
    {
      "cell_type": "markdown",
      "metadata": {
        "id": "view-in-github",
        "colab_type": "text"
      },
      "source": [
        "<a href=\"https://colab.research.google.com/github/ShivikaPrasanna/mbti-personality-prediction/blob/main/personality.ipynb\" target=\"_parent\"><img src=\"https://colab.research.google.com/assets/colab-badge.svg\" alt=\"Open In Colab\"/></a>"
      ]
    },
    {
      "cell_type": "code",
      "metadata": {
        "id": "DR4oHhw4Dfs2",
        "colab": {
          "base_uri": "https://localhost:8080/"
        },
        "outputId": "a48c3d1b-c898-4be2-8ab2-e85908ad6565"
      },
      "source": [
        "'''\n",
        "Developed by Shivika Prasanna on 11/05/2021.\n",
        "Last updated on 11/27/2021.\n",
        "Predicts personality based on tweets.\n",
        "Working code.\n",
        "Dataset: /content/mbti_1.csv (download from https://www.kaggle.com/datasnaek/mbti-type)\n",
        "'''\n",
        "import os, sys, csv\n",
        "import string, re\n",
        "import argparse\n",
        "\n",
        "import pandas as pd\n",
        "import numpy as np\n",
        "import json\n",
        "\n",
        "import matplotlib.pyplot as plt\n",
        "import seaborn as sns\n",
        "import string\n",
        "\n",
        "import nltk\n",
        "from nltk.classify import NaiveBayesClassifier\n",
        "nltk.download('stopwords')\n",
        "nltk.download('punkt')\n",
        "\n",
        "print(\"Python version: \", sys.version)\n",
        "\n",
        "dataset_path = ''"
      ],
      "execution_count": 27,
      "outputs": [
        {
          "output_type": "stream",
          "name": "stdout",
          "text": [
            "[nltk_data] Downloading package stopwords to /root/nltk_data...\n",
            "[nltk_data]   Package stopwords is already up-to-date!\n",
            "[nltk_data] Downloading package punkt to /root/nltk_data...\n",
            "[nltk_data]   Package punkt is already up-to-date!\n",
            "Python version:  3.7.12 (default, Sep 10 2021, 00:21:48) \n",
            "[GCC 7.5.0]\n"
          ]
        }
      ]
    },
    {
      "cell_type": "markdown",
      "metadata": {
        "id": "HSk15pna68Lo"
      },
      "source": [
        "Understanding the dataset"
      ]
    },
    {
      "cell_type": "code",
      "metadata": {
        "colab": {
          "base_uri": "https://localhost:8080/"
        },
        "id": "TIXHTd8o-Xun",
        "outputId": "175f3976-e088-441a-d7bd-bc915bd44a63"
      },
      "source": [
        "df = pd.read_csv(dataset_path)\n",
        "\n",
        "print(\"Dataset preview: \", df.head(10))\n",
        "print(\"Size of the dataset: \", df.shape)\n",
        "\n",
        "print(\"Preview of posts: \", df.iloc[0,1].split('|||'))\n",
        "print(\"Length of posts: \", len(df.iloc[1,1].split('|||')))"
      ],
      "execution_count": 46,
      "outputs": [
        {
          "output_type": "stream",
          "name": "stdout",
          "text": [
            "Dataset preview:     type                                              posts\n",
            "0  INFJ  'http://www.youtube.com/watch?v=qsXHcwe3krw|||...\n",
            "1  ENTP  'I'm finding the lack of me in these posts ver...\n",
            "2  INTP  'Good one  _____   https://www.youtube.com/wat...\n",
            "3  INTJ  'Dear INTP,   I enjoyed our conversation the o...\n",
            "4  ENTJ  'You're fired.|||That's another silly misconce...\n",
            "5  INTJ  '18/37 @.@|||Science  is not perfect. No scien...\n",
            "6  INFJ  'No, I can't draw on my own nails (haha). Thos...\n",
            "7  INTJ  'I tend to build up a collection of things on ...\n",
            "8  INFJ  I'm not sure, that's a good question. The dist...\n",
            "9  INTP  'https://www.youtube.com/watch?v=w8-egj0y8Qs||...\n",
            "Size of the dataset:  (8675, 2)\n",
            "Preview of posts:  [\"'http://www.youtube.com/watch?v=qsXHcwe3krw\", 'http://41.media.tumblr.com/tumblr_lfouy03PMA1qa1rooo1_500.jpg', 'enfp and intj moments  https://www.youtube.com/watch?v=iz7lE1g4XM4  sportscenter not top ten plays  https://www.youtube.com/watch?v=uCdfze1etec  pranks', 'What has been the most life-changing experience in your life?', 'http://www.youtube.com/watch?v=vXZeYwwRDw8   http://www.youtube.com/watch?v=u8ejam5DP3E  On repeat for most of today.', 'May the PerC Experience immerse you.', 'The last thing my INFJ friend posted on his facebook before committing suicide the next day. Rest in peace~   http://vimeo.com/22842206', \"Hello ENFJ7. Sorry to hear of your distress. It's only natural for a relationship to not be perfection all the time in every moment of existence. Try to figure the hard times as times of growth, as...\", '84389  84390  http://wallpaperpassion.com/upload/23700/friendship-boy-and-girl-wallpaper.jpg  http://assets.dornob.com/wp-content/uploads/2010/04/round-home-design.jpg ...', 'Welcome and stuff.', 'http://playeressence.com/wp-content/uploads/2013/08/RED-red-the-pokemon-master-32560474-450-338.jpg  Game. Set. Match.', \"Prozac, wellbrutin, at least thirty minutes of moving your legs (and I don't mean moving them while sitting in your same desk chair), weed in moderation (maybe try edibles as a healthier alternative...\", \"Basically come up with three items you've determined that each type (or whichever types you want to do) would more than likely use, given each types' cognitive functions and whatnot, when left by...\", 'All things in moderation.  Sims is indeed a video game, and a good one at that. Note: a good one at that is somewhat subjective in that I am not completely promoting the death of any given Sim...', 'Dear ENFP:  What were your favorite video games growing up and what are your now, current favorite video games? :cool:', 'https://www.youtube.com/watch?v=QyPqT8umzmY', 'It appears to be too late. :sad:', \"There's someone out there for everyone.\", 'Wait... I thought confidence was a good thing.', \"I just cherish the time of solitude b/c i revel within my inner world more whereas most other time i'd be workin... just enjoy the me time while you can. Don't worry, people will always be around to...\", \"Yo entp ladies... if you're into a complimentary personality,well, hey.\", '... when your main social outlet is xbox live conversations and even then you verbally fatigue quickly.', 'http://www.youtube.com/watch?v=gDhy7rdfm14  I really dig the part from 1:46 to 2:50', 'http://www.youtube.com/watch?v=msqXffgh7b8', 'Banned because this thread requires it of me.', 'Get high in backyard, roast and eat marshmellows in backyard while conversing over something intellectual, followed by massages and kisses.', 'http://www.youtube.com/watch?v=Mw7eoU3BMbE', 'http://www.youtube.com/watch?v=4V2uYORhQOk', 'http://www.youtube.com/watch?v=SlVmgFQQ0TI', \"Banned for too many b's in that sentence. How could you! Think of the B!\", 'Banned for watching movies in the corner with the dunces.', 'Banned because Health class clearly taught you nothing about peer pressure.', 'Banned for a whole host of reasons!', 'http://www.youtube.com/watch?v=IRcrv41hgz4', \"1) Two baby deer on left and right munching on a beetle in the middle.  2) Using their own blood, two cavemen diary today's latest happenings on their designated cave diary wall.  3) I see it as...\", 'a pokemon world  an infj society  everyone becomes an optimist', '49142', 'http://www.youtube.com/watch?v=ZRCEq_JFeFM', 'http://discovermagazine.com/2012/jul-aug/20-things-you-didnt-know-about-deserts/desert.jpg', 'http://oyster.ignimgs.com/mediawiki/apis.ign.com/pokemon-silver-version/d/dd/Ditto.gif', 'http://www.serebii.net/potw-dp/Scizor.jpg', \"Not all artists are artists because they draw. It's the idea that counts in forming something of your own... like a signature.\", \"Welcome to the robot ranks, person who downed my self-esteem cuz I'm not an avid signature artist like herself. :proud:\", 'Banned for taking all the room under my bed. Ya gotta learn to share with the roaches.', 'http://www.youtube.com/watch?v=w8IgImn57aQ', 'Banned for being too much of a thundering, grumbling kind of storm... yep.', \"Ahh... old high school music I haven't heard in ages.   http://www.youtube.com/watch?v=dcCRUPCdB1w\", \"I failed a public speaking class a few years ago and I've sort of learned what I could do better were I to be in that position again. A big part of my failure was just overloading myself with too...\", \"I like this person's mentality. He's a confirmed INTJ by the way. http://www.youtube.com/watch?v=hGKLI-GEc6M\", \"Move to the Denver area and start a new life for myself.'\"]\n",
            "Length of posts:  50\n"
          ]
        }
      ]
    },
    {
      "cell_type": "code",
      "metadata": {
        "colab": {
          "base_uri": "https://localhost:8080/"
        },
        "id": "MYF9oSUDDHVv",
        "outputId": "2ca1c4d5-f2fe-4322-aa09-bfdb26c7f6b9"
      },
      "source": [
        "types = np.unique(df.type.values)\n",
        "print(\"List of {} unique types: {}\".format(len(types), types))"
      ],
      "execution_count": 47,
      "outputs": [
        {
          "output_type": "stream",
          "name": "stdout",
          "text": [
            "List of 16 unique types: ['ENFJ' 'ENFP' 'ENTJ' 'ENTP' 'ESFJ' 'ESFP' 'ESTJ' 'ESTP' 'INFJ' 'INFP'\n",
            " 'INTJ' 'INTP' 'ISFJ' 'ISFP' 'ISTJ' 'ISTP']\n"
          ]
        }
      ]
    },
    {
      "cell_type": "code",
      "metadata": {
        "colab": {
          "base_uri": "https://localhost:8080/",
          "height": 604
        },
        "id": "-lYw-pm5DJ-k",
        "outputId": "da73e53c-cbad-44c4-d21f-534c07ded923"
      },
      "source": [
        "total_types = df.groupby(['type']).count()\n",
        "print(\"Total count for each personality: \", total_types)\n",
        "\n",
        "# Visualizing the counts of the types\n",
        "plt.figure(figsize = (12,4))\n",
        "\n",
        "plt.bar(np.array(total_types.index), height = total_types['posts'],)\n",
        "plt.xlabel('Types', size = 12)\n",
        "plt.ylabel('Number of posts', size = 12)\n",
        "plt.title('Total posts for each personality type')\n",
        "plt.savefig('types_counts.png')\n",
        "plt.show()"
      ],
      "execution_count": 50,
      "outputs": [
        {
          "output_type": "stream",
          "name": "stdout",
          "text": [
            "Total count for each personality:        posts\n",
            "type       \n",
            "ENFJ    190\n",
            "ENFP    675\n",
            "ENTJ    231\n",
            "ENTP    685\n",
            "ESFJ     42\n",
            "ESFP     48\n",
            "ESTJ     39\n",
            "ESTP     89\n",
            "INFJ   1470\n",
            "INFP   1832\n",
            "INTJ   1091\n",
            "INTP   1304\n",
            "ISFJ    166\n",
            "ISFP    271\n",
            "ISTJ    205\n",
            "ISTP    337\n"
          ]
        },
        {
          "output_type": "display_data",
          "data": {
            "image/png": "[encoded data removed]",
            "text/plain": [
              "<Figure size 864x288 with 1 Axes>"
            ]
          },
          "metadata": {
            "needs_background": "light"
          }
        }
      ]
    },
    {
      "cell_type": "code",
      "metadata": {
        "colab": {
          "base_uri": "https://localhost:8080/",
          "height": 336
        },
        "id": "lobDt1Pm_tdr",
        "outputId": "43ceece7-5ac3-4355-ca5c-9122dc97ab03"
      },
      "source": [
        "count_types = df['type'].value_counts()\n",
        "plt.figure(figsize=(12,4))\n",
        "sns.barplot(count_types.index, count_types.values, alpha=0.8)\n",
        "plt.ylabel('Number of Occurrences', fontsize=12)\n",
        "plt.xlabel('Types', fontsize=12)\n",
        "plt.savefig('ordered_types_counts.png')"
      ],
      "execution_count": 53,
      "outputs": [
        {
          "output_type": "stream",
          "name": "stderr",
          "text": [
            "/usr/local/lib/python3.7/dist-packages/seaborn/_decorators.py:43: FutureWarning: Pass the following variables as keyword args: x, y. From version 0.12, the only valid positional argument will be `data`, and passing other arguments without an explicit keyword will result in an error or misinterpretation.\n",
            "  FutureWarning\n"
          ]
        },
        {
          "output_type": "display_data",
          "data": {
            "image/png": "[encoded data removed]",
            "text/plain": [
              "<Figure size 864x288 with 1 Axes>"
            ]
          },
          "metadata": {
            "needs_background": "light"
          }
        }
      ]
    },
    {
      "cell_type": "code",
      "metadata": {
        "id": "n4KCUXvmD524",
        "colab": {
          "base_uri": "https://localhost:8080/"
        },
        "outputId": "e5af2b56-510a-4e81-84ce-fd04c33fd1ea"
      },
      "source": [
        "# Bag-of-words model creation: Split posts on personality and add to a Pandas Series\n",
        "all_posts = pd.DataFrame()\n",
        "for i in types:\n",
        "    tmp1 = df[df['type'] == i]['posts']\n",
        "    tmp2 = []\n",
        "    for j in tmp1:\n",
        "        tmp2 += j.split('|||')\n",
        "    tmp3 = pd.Series(tmp2)\n",
        "    all_posts[i] = tmp3\n",
        "print(\"Preview of posts grouped by the personality type: \", all_posts.tail())"
      ],
      "execution_count": 31,
      "outputs": [
        {
          "output_type": "stream",
          "name": "stdout",
          "text": [
            "Preview of posts grouped by the personality type:                                                     ENFJ  ...                                               ISTP\n",
            "9283  I am VERY particular. And I have not dated cer...  ...  Group One I tend to be sociable, but sometimes...\n",
            "9284  Could you not tell the guy was INTP?  Is that ...  ...        https://www.youtube.com/watch?v=22wU-UITRIA\n",
            "9285  I cannot speak for all ENFJ's, but I am hard-w...  ...  I'm trying to think... my first two detentions...\n",
            "9286  Of course you do not see the point of the vide...  ...  I think you can.  You should never let your pe...\n",
            "9287  The types fit because the way they use their c...  ...  I think it's just a part of human nature to ca...\n",
            "\n",
            "[5 rows x 16 columns]\n"
          ]
        }
      ]
    },
    {
      "cell_type": "code",
      "metadata": {
        "colab": {
          "base_uri": "https://localhost:8080/"
        },
        "id": "qygfN-9dJobS",
        "outputId": "5581e996-7970-4ae6-ca23-e7dc51394e71"
      },
      "source": [
        "# Tokenize words\n",
        "stop_words = nltk.corpus.stopwords.words(\"english\") + list(string.punctuation)\n",
        "def filtered_bag_of_words(words):\n",
        "    words = nltk.word_tokenize(words)\n",
        "    return {\n",
        "        word:1 for word in words \\\n",
        "        if not word in stop_words\n",
        "    }\n",
        "\n",
        "print(\"Bag of words for type INTJ: \", filtered_bag_of_words(all_posts['INTJ'].iloc[1]))"
      ],
      "execution_count": 32,
      "outputs": [
        {
          "output_type": "stream",
          "name": "stdout",
          "text": [
            "Bag of words for type INTJ:  {'Dear': 1, 'ENTJ': 1, 'sub': 1, 'Long': 1, 'time': 1, 'see': 1, 'Sincerely': 1, 'Alpha': 1}\n"
          ]
        }
      ]
    },
    {
      "cell_type": "code",
      "metadata": {
        "id": "_ftJFBZgJqI-"
      },
      "source": [
        "# Array of features\n",
        "features = []\n",
        "for i in types:\n",
        "    tmp1 = all_posts[i]\n",
        "    tmp1 = tmp1.dropna()\n",
        "    features += [[(filtered_bag_of_words(j), i) for j in tmp1]]"
      ],
      "execution_count": 33,
      "outputs": []
    },
    {
      "cell_type": "code",
      "metadata": {
        "colab": {
          "base_uri": "https://localhost:8080/"
        },
        "id": "UTFadsfcJsH9",
        "outputId": "d93d63b6-463f-4a7e-b13f-d2ce6f7aeab6"
      },
      "source": [
        "# Splitting posts proportionally and creating a train-test set of 80:20 split\n",
        "split_data = []\n",
        "for i in range(16):\n",
        "    split_data += [len(features[i]) * 0.8]\n",
        "split_data = np.array(split_data, dtype = int)\n",
        "\n",
        "print(\"Count of the split data: \", split_data)"
      ],
      "execution_count": 34,
      "outputs": [
        {
          "output_type": "stream",
          "name": "stdout",
          "text": [
            "Count of the split data:  [7430 7430 7430 7430 1614 1772 1536 3469 7430 7430 7430 7430 6496 7430\n",
            " 7430 7430]\n"
          ]
        }
      ]
    },
    {
      "cell_type": "markdown",
      "metadata": {
        "id": "btqGjZ4JJhlW"
      },
      "source": [
        "Approach 1: Split posts on personalities"
      ]
    },
    {
      "cell_type": "code",
      "metadata": {
        "id": "fMJM7lNQ-gEw",
        "colab": {
          "base_uri": "https://localhost:8080/"
        },
        "outputId": "d09290e0-f539-4721-8dc1-7c0e9efed1df"
      },
      "source": [
        "train=[]\n",
        "for i in range(16):\n",
        "    train += features[i][:split_data[i]]\n",
        "\n",
        "# Testing NB model\n",
        "nb_classifier = NaiveBayesClassifier.train(train)\n",
        "\n",
        "# Naive Bayes model accuracy\n",
        "print(\"Naive Bayes Classifier accuracy on train set is: \", nltk.classify.util.accuracy(nb_classifier, train)*100)\n",
        "\n",
        "test=[]\n",
        "for i in range(16):\n",
        "    test += features[i][split_data[i]:]\n",
        "\n",
        "print(\"Naive Bayes Classifier accuracy on test set is: \", nltk.classify.util.accuracy(nb_classifier, test)*100)\n",
        "print(\"~~~~~~~~~~~~~~~~~~~~~~~~~~~~~~~~\")\n",
        "print(\"The efficiency of the model is {}, which is quite low, when we use the dataset segregated on personalities only. Instead of selecting all 16 types of personalities, a better approach would be to split the data on the 4 axes that builds the Myers Briggs personality. In other words, the 4 axes are Introversion (I) – Extroversion (E), Intuition (N) – Sensing (S), Thinking (T) – Feeling (F), Judging (J) – Perceiving (P). A classifier model would be built for each of the axes so we can predict the personality by combining 1 type from each of the axes.\".format(nltk.classify.util.accuracy(nb_classifier, test)*100))\n",
        "print(\"~~~~~~~~~~~~~~~~~~~~~~~~~~~~~~~~\")"
      ],
      "execution_count": 35,
      "outputs": [
        {
          "output_type": "stream",
          "name": "stdout",
          "text": [
            "Naive Bayes Classifier accuracy on train set is:  43.91359698603765\n",
            "Naive Bayes Classifier accuracy on test set is:  10.238794851632662\n",
            "~~~~~~~~~~~~~~~~~~~~~~~~~~~~~~~~\n",
            "The efficiency of the model is 10.238794851632662, which is quite low, when we use the dataset segregated on personalities only. Instead of selecting all 16 types of personalities, a better approach would be to split the data on the 4 axes that builds the Myers Briggs personality. In other words, the 4 axes are Introversion (I) – Extroversion (E), Intuition (N) – Sensing (S), Thinking (T) – Feeling (F), Judging (J) – Perceiving (P). A classifier model would be built for each of the axes so we can predict the personality by combining 1 type from each of the axes.\n",
            "~~~~~~~~~~~~~~~~~~~~~~~~~~~~~~~~\n"
          ]
        }
      ]
    },
    {
      "cell_type": "markdown",
      "metadata": {
        "id": "L-G2MxH-JtxN"
      },
      "source": [
        "Approach 2: Predict 1 personality from each axis"
      ]
    },
    {
      "cell_type": "code",
      "metadata": {
        "id": "08XrPYkIEDRN",
        "colab": {
          "base_uri": "https://localhost:8080/"
        },
        "outputId": "bf9d4e7c-d643-4b8f-ad30-81222911104c"
      },
      "source": [
        "# Changing approach to create models to predict 1 personality from each axis\n",
        "# Starting with Introvert-Extrovert (IE)\n",
        "features = []\n",
        "for i in types:\n",
        "    tmp1 = all_posts[i]\n",
        "    tmp1 = tmp1.dropna()\n",
        "    if('I' in i):\n",
        "        features += [[(filtered_bag_of_words(j), 'introvert') for j in tmp1]]\n",
        "    if('E' in i):\n",
        "        features += [[(filtered_bag_of_words(j), 'extrovert') for j in tmp1]]\n",
        "\n",
        "train = []\n",
        "for i in range(16):\n",
        "    train += features[i][:split_data[i]]\n",
        "\n",
        "introvert_extrovert_model = NaiveBayesClassifier.train(train)\n",
        "\n",
        "test = []\n",
        "for i in range(16):\n",
        "    test += features[i][split_data[i]:]\n",
        "\n",
        "train_ie_model_acc = nltk.classify.util.accuracy(introvert_extrovert_model, train)*100\n",
        "test_ie_model_acc = nltk.classify.util.accuracy(introvert_extrovert_model, test)*100\n",
        "print(\"IE: Train accuracy = {}, \\nTest accuracy = {} \".format(train_ie_model_acc,  test_ie_model_acc))\n",
        "print(\"~~~~~~~~~~~~~~~~~~~~~~~~~~~~~~~~\")"
      ],
      "execution_count": 36,
      "outputs": [
        {
          "output_type": "stream",
          "name": "stdout",
          "text": [
            "IE: Train accuracy = 81.13064988563089, \n",
            "Test accuracy = 58.21297024376112 \n",
            "~~~~~~~~~~~~~~~~~~~~~~~~~~~~~~~~\n"
          ]
        }
      ]
    },
    {
      "cell_type": "code",
      "metadata": {
        "id": "4HpCWfjqEHZ0",
        "colab": {
          "base_uri": "https://localhost:8080/"
        },
        "outputId": "38671fcf-234a-4733-dbff-99978e396b38"
      },
      "source": [
        "# Second is Intuition-Sensing (NS)\n",
        "features = []\n",
        "for i in types:\n",
        "    tmp1 = all_posts[i]\n",
        "    tmp1 = tmp1.dropna()\n",
        "    if('N' in i):\n",
        "        features += [[(filtered_bag_of_words(j), 'intuition') for j in tmp1]]\n",
        "    if('S' in i):\n",
        "        features += [[(filtered_bag_of_words(j), 'sensing') for j in tmp1]]\n",
        "\n",
        "train = []\n",
        "for i in range(16):\n",
        "    train += features[i][:split_data[i]]\n",
        "\n",
        "intuition_sensing_model = NaiveBayesClassifier.train(train)\n",
        "\n",
        "test = []\n",
        "for i in range(16):\n",
        "    test += features[i][split_data[i]:]\n",
        "\n",
        "train_ns_model_acc = nltk.classify.util.accuracy(intuition_sensing_model, train)*100\n",
        "test_ns_model_acc = nltk.classify.util.accuracy(intuition_sensing_model, test)*100\n",
        "print(\"NS: Train accuracy = {}, \\nTest accuracy = {} \".format(train_ns_model_acc, test_ns_model_acc))\n",
        "print(\"~~~~~~~~~~~~~~~~~~~~~~~~~~~~~~~~\")"
      ],
      "execution_count": 37,
      "outputs": [
        {
          "output_type": "stream",
          "name": "stdout",
          "text": [
            "NS: Train accuracy = 81.47427471355972, \n",
            "Test accuracy = 61.08926871663287 \n",
            "~~~~~~~~~~~~~~~~~~~~~~~~~~~~~~~~\n"
          ]
        }
      ]
    },
    {
      "cell_type": "code",
      "metadata": {
        "id": "_Y8MK-bVEK3M",
        "colab": {
          "base_uri": "https://localhost:8080/"
        },
        "outputId": "786d8489-ac9e-47a0-8dbc-af4542fb95cd"
      },
      "source": [
        "# Third is Thinking–Feeling (TF)\n",
        "features = []\n",
        "for i in types:\n",
        "    tmp1 = all_posts[i]\n",
        "    tmp1 = tmp1.dropna()\n",
        "    if('T' in i):\n",
        "        features += [[(filtered_bag_of_words(j), 'thinking') for j in tmp1]]\n",
        "    if('F' in i):\n",
        "        features += [[(filtered_bag_of_words(j), 'feeling') for j in tmp1]]\n",
        "\n",
        "train = []\n",
        "for i in range(16):\n",
        "    train += features[i][:split_data[i]]\n",
        "\n",
        "thinking_feeling_model = NaiveBayesClassifier.train(train)\n",
        "\n",
        "test = []\n",
        "for i in range(16):\n",
        "    test += features[i][split_data[i]:]\n",
        "\n",
        "train_tf_model_acc = nltk.classify.util.accuracy(thinking_feeling_model, train)*100\n",
        "test_tf_model_acc = nltk.classify.util.accuracy(thinking_feeling_model, test)*100\n",
        "print(\"TF: Train accuracy = {}, \\nTest accuracy = {} \".format(train_tf_model_acc, test_tf_model_acc))\n",
        "print(\"~~~~~~~~~~~~~~~~~~~~~~~~~~~~~~~~\")"
      ],
      "execution_count": 38,
      "outputs": [
        {
          "output_type": "stream",
          "name": "stdout",
          "text": [
            "TF: Train accuracy = 80.04595464566277, \n",
            "Test accuracy = 59.42142945826263 \n",
            "~~~~~~~~~~~~~~~~~~~~~~~~~~~~~~~~\n"
          ]
        }
      ]
    },
    {
      "cell_type": "code",
      "metadata": {
        "id": "AoG3a2fREN13",
        "colab": {
          "base_uri": "https://localhost:8080/"
        },
        "outputId": "d5330c27-96cb-43f4-c6ae-fc421581254e"
      },
      "source": [
        "# Fourth is Judging–Perceiving (JP)\n",
        "features = []\n",
        "for i in types:\n",
        "    tmp1 = all_posts[i]\n",
        "    tmp1 = tmp1.dropna()\n",
        "    if('J' in i):\n",
        "        features += [[(filtered_bag_of_words(j), 'judging') for j in tmp1]]\n",
        "    if('P' in i):\n",
        "        features += [[(filtered_bag_of_words(j), 'perceiving') for j in tmp1]]\n",
        "\n",
        "train = []\n",
        "for i in range(16):\n",
        "    train += features[i][:split_data[i]]\n",
        "\n",
        "judging_perceiving_model = NaiveBayesClassifier.train(train)\n",
        "\n",
        "test = []\n",
        "for i in range(16):\n",
        "    test += features[i][split_data[i]:]\n",
        "\n",
        "train_jp_model_acc = nltk.classify.util.accuracy(judging_perceiving_model, train)*100\n",
        "test_jp_model_acc = nltk.classify.util.accuracy(judging_perceiving_model, test)*100\n",
        "print(\"JP: Train accuracy = {}, \\nTest accuracy = {} \".format(train_jp_model_acc, test_jp_model_acc))\n",
        "print(\"~~~~~~~~~~~~~~~~~~~~~~~~~~~~~~~~\")"
      ],
      "execution_count": 39,
      "outputs": [
        {
          "output_type": "stream",
          "name": "stdout",
          "text": [
            "JP: Train accuracy = 79.80686628647132, \n",
            "Test accuracy = 54.38894177047552 \n",
            "~~~~~~~~~~~~~~~~~~~~~~~~~~~~~~~~\n"
          ]
        }
      ]
    },
    {
      "cell_type": "code",
      "metadata": {
        "id": "JtyW8HGNEQ5N",
        "colab": {
          "base_uri": "https://localhost:8080/",
          "height": 481
        },
        "outputId": "e38ff0ab-c097-4e14-909c-bfb803d1079f"
      },
      "source": [
        "temp = {'train' : [train_ie_model_acc, train_ns_model_acc, train_tf_model_acc, train_jp_model_acc], 'test' : [test_ie_model_acc, test_ns_model_acc, test_tf_model_acc, test_jp_model_acc]}\n",
        "test_train_acc_results = pd.DataFrame.from_dict(temp, orient='index', columns=['Introvert - Extrovert', 'Intuition - Sensing', 'Thinking - Feeling', 'Judging - Perceiving'])\n",
        "print(\"Train vs Test accuracies: \", test_train_acc_results)\n",
        "\n",
        "labels = np.array(test_train_acc_results.columns)\n",
        "\n",
        "training = test_train_acc_results.loc['train']\n",
        "ind = np.arange(4)\n",
        "width = 0.4\n",
        "fig = plt.figure()\n",
        "ax = fig.add_subplot(111)\n",
        "rects1 = ax.bar(ind, training, width, color='#de425b')\n",
        "\n",
        "testing = test_train_acc_results.loc['test']\n",
        "rects2 = ax.bar(ind+width, testing, width, color='#f5b66f')\n",
        "\n",
        "fig.set_size_inches(12, 6)\n",
        "\n",
        "ax.set_xlabel('Model Classifying Trait', size = 18)\n",
        "ax.set_ylabel('Accuracy(%)', size = 18)\n",
        "ax.set_xticks(ind + width / 2)\n",
        "ax.set_xticklabels(labels)\n",
        "ax.legend((rects1[0], rects2[0]), ('Train', 'Test'))\n",
        "\n",
        "fig.savefig('test_train_acc_results.png', dpi=200)"
      ],
      "execution_count": 40,
      "outputs": [
        {
          "output_type": "stream",
          "name": "stdout",
          "text": [
            "Train vs Test accuracies:         Introvert - Extrovert  ...  Judging - Perceiving\n",
            "train               81.13065  ...             79.806866\n",
            "test                58.21297  ...             54.388942\n",
            "\n",
            "[2 rows x 4 columns]\n"
          ]
        },
        {
          "output_type": "display_data",
          "data": {
            "image/png": "[encoded data removed]",
            "text/plain": [
              "<Figure size 864x432 with 1 Axes>"
            ]
          },
          "metadata": {
            "needs_background": "light"
          }
        }
      ]
    },
    {
      "cell_type": "code",
      "metadata": {
        "id": "3hZRwDsjEUT6"
      },
      "source": [
        "# Creating a function to use the above models to predict personalities\n",
        "def MBTI(input):\n",
        "    tokens = filtered_bag_of_words(input)\n",
        "    i_e = introvert_extrovert_model.classify(tokens)\n",
        "    i_s = intuition_sensing_model.classify(tokens)\n",
        "    t_f = thinking_feeling_model.classify(tokens)\n",
        "    j_p = judging_perceiving_model.classify(tokens)\n",
        "    \n",
        "    p_axis = ''\n",
        "    \n",
        "    if (i_e == 'introvert'):\n",
        "        p_axis += 'I'\n",
        "    if (i_e == 'extrovert'):\n",
        "        p_axis += 'E'\n",
        "    if (i_s == 'intuition'):\n",
        "        p_axis += 'N'\n",
        "    if (i_s == 'sensing'):\n",
        "        p_axis += 'S'\n",
        "    if (t_f == 'thinking'):\n",
        "        p_axis += 'T'\n",
        "    if (t_f == 'feeling'):\n",
        "        p_axis += 'F'\n",
        "    if (j_p == 'judging'):\n",
        "        p_axis += 'J'\n",
        "    if (j_p == 'perceiving'):\n",
        "        p_axis += 'P'\n",
        "    return (p_axis)\n",
        "\n",
        "def predictMBTIPersonality(input, name):\n",
        "    traits=[]\n",
        "    p_ax = []\n",
        "\n",
        "    axis1 = pd.DataFrame([0,0,0,0], ['I', 'N', 'T', 'J'], ['count'])\n",
        "    axis2 = pd.DataFrame([0,0,0,0], ['E', 'S', 'F', 'P'], ['count'])\n",
        "\n",
        "    for i in input:\n",
        "        p_ax += [MBTI(i)]\n",
        "    \n",
        "    for i in p_ax:\n",
        "        for j in ['I', 'N', 'T', 'J']:\n",
        "            if (j in i):\n",
        "                axis1.loc[j] += 1\n",
        "        for j in ['E', 'S', 'F', 'P']:\n",
        "            if (j in i):\n",
        "                axis2.loc[j] += 1\n",
        "    \n",
        "    axis1 = axis1.T\n",
        "    axis1 = axis1 * 100/len(input)\n",
        "    axis2 = axis2.T\n",
        "    axis2 = axis2 * 100/len(input)\n",
        "\n",
        "    predictedTrait = ''\n",
        "\n",
        "    for i, j in zip(axis1, axis2):\n",
        "        trait_char = max(axis1[i][0], axis2[j][0])\n",
        "        if (axis1[i][0] == trait_char):\n",
        "            predictedTrait += i\n",
        "        if (axis2[j][0] == trait_char):\n",
        "            predictedTrait += j\n",
        "\n",
        "    traits += [predictedTrait]\n",
        "\n",
        "    labels = np.array(test_train_acc_results.columns)\n",
        "\n",
        "    intj = axis1.loc['count']\n",
        "    index = np.arange(4)\n",
        "    width = 0.4\n",
        "    fig = plt.figure()\n",
        "    ax = fig.add_subplot(111)\n",
        "    rects1 = ax.bar(index, intj, width, color='#0d729c')\n",
        "    \n",
        "    esfp = axis2.loc['count']\n",
        "    rects2 = ax.bar(index+width, esfp, width, color='#f68657')\n",
        "\n",
        "    fig.set_size_inches(10, 7)\n",
        "\n",
        "    ax.set_xlabel('MBTI Trait', size = 18)\n",
        "    ax.set_ylabel('Trait percent(%)', size = 18)\n",
        "    ax.set_xticks(index + width/2)\n",
        "    ax.set_xticklabels(labels)\n",
        "    ax.set_yticks(np.arange(0, 105, step= 10))\n",
        "    ax.set_title(name+'\\'s personality is ' + predictedTrait, size = 20)\n",
        "    plt.grid(True)\n",
        "\n",
        "    fig.savefig(name+'_results.png', dpi=200)\n",
        "\n",
        "    return (traits)"
      ],
      "execution_count": 41,
      "outputs": []
    },
    {
      "cell_type": "code",
      "metadata": {
        "id": "58qtAcq6EXHb",
        "colab": {
          "base_uri": "https://localhost:8080/",
          "height": 488
        },
        "outputId": "16470fc2-5dee-4e0a-e66d-eff8297d65e2"
      },
      "source": [
        "# Testing the above functions with tweets of famous personalities scraped from Twitter using Twarc\n",
        "test_file_path = ''\n",
        "name = ''\n",
        "\n",
        "if test_file_path.endswith('.jsonl'):\n",
        "    with open(test_file_path, 'r') as json_file:\n",
        "        json_list = list(json_file)\n",
        "        final_tweets = []\n",
        "\n",
        "        for json_str in json_list:\n",
        "            res = json.loads(json_str)\n",
        "            tweet = res['full_text']\n",
        "            final_tweets.append(tweet)\n",
        "\n",
        "    predicted_trait = predictMBTIPersonality(final_tweets, name)\n",
        "\n",
        "if test_file_path.endswith('.csv'):\n",
        "    df = pd.read_csv(test_file_path)\n",
        "    if 'tweet' in df.columns:\n",
        "      predicted_trait = predictMBTIPersonality(df['tweet'], name)\n",
        "    elif 'content' in df.columns:\n",
        "      predicted_trait = predictMBTIPersonality(df['content'], name)\n",
        "    elif 'text' in df.columns:\n",
        "      predicted_trait = predictMBTIPersonality(df['text'], name)\n",
        "\n",
        "if test_file_path.endswith('.txt'):\n",
        "    writings = open(test_file_path, encoding='unicode_escape')\n",
        "    text = writings.readlines()\n",
        "    sentence = text[0].split('|||')\n",
        "    predicted_trait = predictMBTIPersonality(sentence, name)\n",
        "\n",
        "print('Trait is: ', predicted_trait)"
      ],
      "execution_count": 44,
      "outputs": [
        {
          "output_type": "stream",
          "name": "stdout",
          "text": [
            "Trait is:  ['ENTJ']\n"
          ]
        },
        {
          "output_type": "display_data",
          "data": {
            "image/png": "[encoded data removed]",
            "text/plain": [
              "<Figure size 720x504 with 1 Axes>"
            ]
          },
          "metadata": {
            "needs_background": "light"
          }
        }
      ]
    },
    {
      "cell_type": "code",
      "metadata": {
        "id": "7vrqmkhIx24M"
      },
      "source": [
        ""
      ],
      "execution_count": null,
      "outputs": []
    }
  ]
}